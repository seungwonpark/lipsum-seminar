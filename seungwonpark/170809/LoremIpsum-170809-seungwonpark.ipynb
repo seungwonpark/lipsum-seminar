{
 "cells": [
  {
   "cell_type": "markdown",
   "metadata": {
    "slideshow": {
     "slide_type": "slide"
    }
   },
   "source": [
    "# Brief Intro. to Algorithms\n",
    "2017.08.09 @ Lorem Ipsum\n",
    "## Seungwon Park\n",
    "yyyyy (at) snu.ac.kr"
   ]
  },
  {
   "cell_type": "markdown",
   "metadata": {
    "slideshow": {
     "slide_type": "slide"
    }
   },
   "source": [
    "# Today's Aim\n",
    "- Why do we need algorithm?\n",
    "    - Time / Space complexity\n",
    "- Some $O(\\log{n})$ algorithms\n",
    "    - Bisection method\n",
    "    - Index tree (Fenwick tree)\n",
    "- Studying algorithms"
   ]
  },
  {
   "cell_type": "markdown",
   "metadata": {
    "slideshow": {
     "slide_type": "slide"
    }
   },
   "source": [
    "## Why do we need algorithm?\n",
    "- Let's consider an ordinary PC : 1GHz $ \\sim 10^{9} $Hz $ \\sim 10^{8} $ calc. \n",
    "- Suppose that we want to sort an array of size $ \\sim 10^{6} $.\n",
    "    - Selection sort - $ O(n^{2}) $: 10000 s $ \\sim $ 3 hour\n",
    "    - Merge sort - $ O(n\\log{n}) $: 130 ms"
   ]
  },
  {
   "cell_type": "markdown",
   "metadata": {
    "slideshow": {
     "slide_type": "slide"
    }
   },
   "source": [
    "## Why do we need algorithm?\n",
    "- Time / Space complexity\n",
    "    - Image from [Big-O Cheat Sheet](http://bigocheatsheet.com/)\n",
    "\n",
    "<center><img src=\"images/big-o.png\" width=\"600\"></center>"
   ]
  },
  {
   "cell_type": "markdown",
   "metadata": {
    "slideshow": {
     "slide_type": "slide"
    }
   },
   "source": [
    "## Bisection method\n",
    "- *In ordered list, find the key of given value.*\n",
    "    - Naive solution: $ O(n) $ - Search all!\n",
    "    - Bisection method: $ O(\\log{n}) $\n",
    "    - [찍어 맞춰라?? @ koistudy](http://koistudy.net/?mid=prob_page&NO=99)\n",
    "- *If $f(x)$ is monotonic, find $x$ s.t. $|f(x)-y_{0}| < \\epsilon$.*\n",
    "    - Gun shooting\n",
    "    - Solving Schrodinger eq. with BCs, ..."
   ]
  },
  {
   "cell_type": "markdown",
   "metadata": {
    "slideshow": {
     "slide_type": "slide"
    }
   },
   "source": [
    "```C++\n",
    "#include<stdio.h>\n",
    "int arr[100010]; // input array, already sorted.\n",
    "int n; // size of array\n",
    "int x; // element to find\n",
    "int f(int s, int e){\n",
    "    if(e-s < 10){\n",
    "        for(int i=s;i<e;i++){\n",
    "            if(arr[i] == x) return i;\n",
    "        }\n",
    "        return -1;\n",
    "    }\n",
    "    int mid = (s+e)/2;\n",
    "    if(arr[mid] > x) return f(s, mid);\n",
    "    else return f(mid,e);\n",
    "}\n",
    "int main(){\n",
    "    scanf(\"%d\",&n);\n",
    "    for(int i=0;i<n;i++) scanf(\"%d\",&arr[i]);\n",
    "    scanf(\"%d\",&x);\n",
    "    printf(\"%d\",f(0,n));\n",
    "}\n",
    "```"
   ]
  },
  {
   "cell_type": "markdown",
   "metadata": {
    "slideshow": {
     "slide_type": "slide"
    }
   },
   "source": [
    "### Python `bisect` module"
   ]
  },
  {
   "cell_type": "code",
   "execution_count": 5,
   "metadata": {
    "slideshow": {
     "slide_type": "fragment"
    }
   },
   "outputs": [
    {
     "name": "stdout",
     "output_type": "stream",
     "text": [
      "3\n",
      "5\n"
     ]
    }
   ],
   "source": [
    "from bisect import bisect\n",
    "arr = [1,4,5,10,40,42,100] # ordered list\n",
    "print(bisect(arr,6))\n",
    "print(bisect(arr,40))"
   ]
  },
  {
   "cell_type": "markdown",
   "metadata": {
    "slideshow": {
     "slide_type": "slide"
    }
   },
   "source": [
    "## Index Tree\n",
    "- *Caculate the sum of given interval.*\n",
    "    - *i.e.*, calculate $ \\sum_{i=a}^{b}{arr[i]} $\n",
    "    - [구간 합 구하기(BOJ, 2042)](https://www.acmicpc.net/problem/2042)\n",
    "- Naive Solution\n",
    "    - Updating: $ O(1) $\n",
    "    - Calculating sum of interval: $ O(n) $"
   ]
  },
  {
   "cell_type": "markdown",
   "metadata": {
    "slideshow": {
     "slide_type": "slide"
    }
   },
   "source": [
    "## Index Tree\n",
    "- Dynamic Table: $ s[k] = \\sum_{i=1}^{k}{arr[i]} $\n",
    "    - Initializing: $ O(n) $\n",
    "    - Updating: $ O(n) $\n",
    "    - Calculating: $ O(1) $\n",
    "- Index Tree\n",
    "    - = Fenwick Tree = Segment Tree\n",
    "    - Initializing: $ O(n) $\n",
    "    - Updating: $ O(\\log{n}) $\n",
    "    - Calculating sum of interval: $ O(\\log{n}) $ - **Impressive**!"
   ]
  },
  {
   "cell_type": "markdown",
   "metadata": {
    "slideshow": {
     "slide_type": "slide"
    }
   },
   "source": [
    "### Working  Scheme\n",
    "<center><img src=\"images/index-tree.png\" width=\"700\"></center>"
   ]
  },
  {
   "cell_type": "markdown",
   "metadata": {
    "slideshow": {
     "slide_type": "slide"
    }
   },
   "source": [
    "### Handling Index Tree\n",
    "- Specify the size of tree\n",
    "```C++\n",
    "int base;\n",
    "for(base=1 ; base<n ; base*=2);\n",
    "```\n",
    "- Which one is better?\n",
    "\n",
    "<table>\n",
    "<tr>\n",
    "<td><img src=\"images/tree-1.png\" width=\"350\"></td>\n",
    "<td><img src=\"images/tree-2.png\" width=\"350\"></td>\n",
    "</tr>\n",
    "</table>"
   ]
  },
  {
   "cell_type": "markdown",
   "metadata": {
    "slideshow": {
     "slide_type": "slide"
    }
   },
   "source": [
    "### Initializing\n",
    "```C++\n",
    "int idt[20];\n",
    "void init(){\n",
    "    for(int i=base ; i<base+n ; i++){\n",
    "        scanf(\"%d\",&idt[i]);\n",
    "    }\n",
    "    for(int i=base-1 ; i>=1 ; i--){\n",
    "        idt[i] = idt[2*i] + idt[2*i+1];\n",
    "        // Think of other applicatinos! e.g.:\n",
    "        // idt[i] = max(idt[2*i], idt[2*i+1]);\n",
    "        // idt[i] = min(idt[2*i], idt[2*i+1]);\n",
    "    }\n",
    "}\n",
    "```"
   ]
  },
  {
   "cell_type": "markdown",
   "metadata": {
    "slideshow": {
     "slide_type": "slide"
    }
   },
   "source": [
    "### Updating\n",
    "```C++\n",
    "void update(int x, int val){\n",
    "    idt[x] = val;\n",
    "    x /= 2;\n",
    "    while(x){\n",
    "        idt[x] = idt[2*x] + idt[2*x+1];\n",
    "        x /= 2;\n",
    "    }\n",
    "}\n",
    "```"
   ]
  },
  {
   "cell_type": "markdown",
   "metadata": {
    "slideshow": {
     "slide_type": "slide"
    }
   },
   "source": [
    "### Calculating\n",
    "```C++\n",
    "int calc(int a, int b){\n",
    "    int ret = 0;\n",
    "    while(a < b){\n",
    "        if(a%2 == 1) ret += idt[a], a++;\n",
    "        if(b%2 == 0) ret += idt[b], b--;\n",
    "        a /= 2, b /= 2;\n",
    "    }\n",
    "    if(a == b) ret += idt[a];\n",
    "    return ret;\n",
    "}\n",
    "```"
   ]
  },
  {
   "cell_type": "markdown",
   "metadata": {
    "slideshow": {
     "slide_type": "slide"
    }
   },
   "source": [
    "## Today's Exercise\n",
    "### Bisection Method\n",
    "- [List of related problems @ BOJ](https://www.acmicpc.net/problem/tag/이분 탐색)\n",
    "    - [수 찾기 (BOJ, 1920)](http://icpc.me/1920)\n",
    "    - [예산 (BOJ, 2512)](http://icpc.me/2512)\n",
    "\n",
    "### Index Tree\n",
    "- [List of related problems @ BOJ](https://www.acmicpc.net/problem/tag/세그먼트 트리)\n",
    "    - [구간 합 구하기 (BOJ, 2042)](http://icpc.me/2042)\n",
    "    - [최소값과 최대값 (BOJ, 2357)](http://icpc.me/2357)"
   ]
  },
  {
   "cell_type": "markdown",
   "metadata": {
    "slideshow": {
     "slide_type": "slide"
    }
   },
   "source": [
    "## Studying Algorithms\n",
    "- \"I understand the mechanism, but I can't code it!\"\n",
    "    - You need to code it to fully understand the algorithm.\n",
    "- \"Controlling edge cases is too annoying!\"\n",
    "    - Edge cases are important as well as common cases.\n",
    "- \"I coded it correctly, but OJ says I'm wrong!\"\n",
    "    - \"맞왜틀\" meme/emoji on BOJ\n",
    "    - Computers don't lie."
   ]
  }
 ],
 "metadata": {
  "anaconda-cloud": {},
  "celltoolbar": "Slideshow",
  "kernelspec": {
   "display_name": "Python [default]",
   "language": "python",
   "name": "python3"
  },
  "language_info": {
   "codemirror_mode": {
    "name": "ipython",
    "version": 3
   },
   "file_extension": ".py",
   "mimetype": "text/x-python",
   "name": "python",
   "nbconvert_exporter": "python",
   "pygments_lexer": "ipython3",
   "version": "3.5.2"
  },
  "nbpresent": {
   "slides": {
    "dd866a03-2588-4665-ae88-05f905df2a3c": {
     "id": "dd866a03-2588-4665-ae88-05f905df2a3c",
     "prev": null,
     "regions": {}
    }
   },
   "themes": {}
  }
 },
 "nbformat": 4,
 "nbformat_minor": 1
}
