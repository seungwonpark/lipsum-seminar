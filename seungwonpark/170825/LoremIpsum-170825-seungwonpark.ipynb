{
 "cells": [
  {
   "cell_type": "markdown",
   "metadata": {
    "slideshow": {
     "slide_type": "slide"
    }
   },
   "source": [
    "# Algorithms (2)\n",
    "2017.08.25 @ Lorem Ipsum\n",
    "\n",
    "## Seungwon Park\n",
    "yyyyy (at) snu.ac.kr"
   ]
  },
  {
   "cell_type": "markdown",
   "metadata": {
    "slideshow": {
     "slide_type": "slide"
    }
   },
   "source": [
    "## Today's Topic : Graph\n",
    "- Representing graph/trees\n",
    "    - C++ Data Types\n",
    "- DFS, BFS\n",
    "- LCA (Lowest Common Ancestor)\n",
    "- Sparse Table ('Faster' LCA)"
   ]
  },
  {
   "cell_type": "markdown",
   "metadata": {
    "slideshow": {
     "slide_type": "subslide"
    }
   },
   "source": [
    "## Notice\n",
    "- We won't be able to solve all problems that are addressed today.\n",
    "- Therefore, I will leave it as a homework. I would **strongly** recommend to do the homework."
   ]
  },
  {
   "cell_type": "markdown",
   "metadata": {
    "slideshow": {
     "slide_type": "slide"
    }
   },
   "source": [
    "## C++ Data Types\n",
    "- stack, queue\n",
    "\n",
    "Those are pretty well-known data types. I shall skip this.\n",
    "- vector\n",
    "\n",
    "> \"std::vector is a sequence container that encapsulates dynamic size arrays.\"\n",
    "> \\- by en.cppreference.com"
   ]
  },
  {
   "cell_type": "markdown",
   "metadata": {
    "slideshow": {
     "slide_type": "slide"
    }
   },
   "source": [
    "## C++ Data Types\n",
    "How to use:\n",
    "```C++\n",
    "#include <stack> // queue, vector, ...\n",
    "using namespace std; // generally, not recommended.\n",
    "vector<int> v;\n",
    "```\n",
    "Some methods:\n",
    "\n",
    "```C++\n",
    "vector<int> v = {25,16};\n",
    "v.push_back(13); // {25,16,13}\n",
    "v[1]; // 16\n",
    "v.pop(); // {16,13}\n",
    "v.size(); // 2\n",
    "```"
   ]
  },
  {
   "cell_type": "markdown",
   "metadata": {
    "slideshow": {
     "slide_type": "slide"
    }
   },
   "source": [
    "## Why do we use `vector`?\n",
    "- Compare two following implementations:\n",
    "\n",
    "```C++\n",
    "int arr[100010]; // not size-optimal\n",
    "int arr_cnt = 0; // needs extra var. to represent size\n",
    "arr[arr_cnt++] = 25;\n",
    "printf(\"%d %d\", arr_cnt, arr[0]);\n",
    "```\n",
    "\n",
    "VS\n",
    "\n",
    "```C++\n",
    "#define pb push_back\n",
    "vector<int> v;\n",
    "v.pb(25);\n",
    "printf(\"%d %d\", v.size(), v[0]);\n",
    "```"
   ]
  },
  {
   "cell_type": "markdown",
   "metadata": {
    "slideshow": {
     "slide_type": "slide"
    }
   },
   "source": [
    "## Representing Graph\n",
    "- Adjacent matrix\n",
    "- Adjacent list\n",
    "    - Space-optimal.\n",
    "    - Can put other things than `int`.\n",
    "\n",
    "Not always adj. list is better than adj. mat. -\n",
    "we shall choose among them by situation."
   ]
  },
  {
   "cell_type": "markdown",
   "metadata": {
    "slideshow": {
     "slide_type": "slide"
    }
   },
   "source": [
    "## Representing Graph\n",
    "```C++\n",
    "// adj. matrix\n",
    "bool G[1010][1010];\n",
    "\n",
    "// adj. list\n",
    "vector<int> G[1010]; // or...\n",
    "struct edge{\n",
    "    int pos, dist;\n",
    "};\n",
    "vector<edge> G[1010];\n",
    "```"
   ]
  },
  {
   "cell_type": "markdown",
   "metadata": {
    "slideshow": {
     "slide_type": "slide"
    }
   },
   "source": [
    "## DFS, BFS\n",
    "- Depth/Breadth First Search\n",
    "<center><img src='images/graph.png' width=500></center>"
   ]
  },
  {
   "cell_type": "markdown",
   "metadata": {
    "slideshow": {
     "slide_type": "slide"
    }
   },
   "source": [
    "## DFS code\n",
    "- Using recursion...\n",
    "    - Can be implemented with `stack`, too.\n",
    "```C++\n",
    "void dfs(int x){\n",
    "    printf(\"%d \",x);\n",
    "    visited[x] = true;\n",
    "    for(int i=0;i<G[x].size();i++){\n",
    "        int next = G[x][i];\n",
    "        // auto next = G[x][i];\n",
    "        if(!visited[next]) dfs(next);\n",
    "    }\n",
    "}\n",
    "```"
   ]
  },
  {
   "cell_type": "markdown",
   "metadata": {
    "slideshow": {
     "slide_type": "slide"
    }
   },
   "source": [
    "## BFS code\n",
    "- Using `queue`...\n",
    "```C++\n",
    "queue<int> W;\n",
    "W.push(1);\n",
    "while(!W.empty()){\n",
    "    int now = W.front();\n",
    "    W.pop();\n",
    "    printf(\"%d \",x);\n",
    "    for(int i=0;i<G[x].size();i++){\n",
    "        int next = G[x][i];\n",
    "        if(!visited[next]){\n",
    "            visited[next] = true;\n",
    "            W.push(next);\n",
    "        }\n",
    "    }\n",
    "}\n",
    "```"
   ]
  },
  {
   "cell_type": "markdown",
   "metadata": {
    "slideshow": {
     "slide_type": "slide"
    }
   },
   "source": [
    "# LCA\n",
    "- Lowest Common Ancestor\n",
    "    - Tree with a given root:\n",
    "<center><img src='images/tree-html.png' width=700></center>"
   ]
  },
  {
   "cell_type": "markdown",
   "metadata": {},
   "source": [
    "## LCA\n",
    "- First, do DFS to get `depth` for each node.\n",
    "- Query: LCA of node `a` and `b`?\n",
    "    - Step 1. Go up with deeper one to adjust depth.\n",
    "    - Step 2. Once the depth became identical, go up until same node."
   ]
  },
  {
   "cell_type": "markdown",
   "metadata": {
    "slideshow": {
     "slide_type": "slide"
    }
   },
   "source": [
    "```C++\n",
    "void dfs(int a, int d){\n",
    "    visited[a] = true;\n",
    "    depth[a] = d;\n",
    "    for(int i=0;i<G[a].size();i++){\n",
    "        int next = G[a][i];\n",
    "        if(!visited[next]{\n",
    "            dfs(next, d+1);\n",
    "            parent[next] = a;\n",
    "        }\n",
    "    }\n",
    "}\n",
    "```"
   ]
  },
  {
   "cell_type": "markdown",
   "metadata": {
    "slideshow": {
     "slide_type": "slide"
    }
   },
   "source": [
    "```C++\n",
    "int lca(int a, int b){\n",
    "    if(depth[u] < depth[v]) swap(u,v);\n",
    "    while(depth[u] != depth[v]){\n",
    "        u = parent[u];\n",
    "    }\n",
    "    while(u != v){\n",
    "        u = parent[u];\n",
    "        v = parent[v];\n",
    "    }\n",
    "    return u;\n",
    "}\n",
    "```"
   ]
  },
  {
   "cell_type": "markdown",
   "metadata": {
    "slideshow": {
     "slide_type": "slide"
    }
   },
   "source": [
    "## Sparse Table\n",
    "- Naive $ O(n) $ method:\n",
    "- Step 1. `depth[u] != depth[v]`...\n",
    "    - Find ancestor to make same depth.\n",
    "    - Step-by-step(?)\n",
    "- Step 2. `depth[u] == depth[v] && u != v`...\n",
    "    - Find common ancestor.\n",
    "    - Step-by-step"
   ]
  },
  {
   "cell_type": "markdown",
   "metadata": {
    "slideshow": {
     "slide_type": "slide"
    }
   },
   "source": [
    "## Construction\n",
    "- Let: `par[k][i]` = `i`'s $2^{k}$-th ancestor.\n",
    "- First, construct `par[0][i]`, as we've done previously.\n",
    "- `par[k][i] = par[k-1][par[k-1][i]]`\n",
    "    - $ 2^{k} = 2^{k-1} + 2^{k-1} $\n",
    "\n",
    "```C++\n",
    "for(int k=1;k<=20;k++){\n",
    "    for(int i=1;i<=n;i++){\n",
    "        par[k][i] = par[k-1][par[k-1][i]];\n",
    "    }\n",
    "}\n",
    "```"
   ]
  },
  {
   "cell_type": "markdown",
   "metadata": {
    "slideshow": {
     "slide_type": "slide"
    }
   },
   "source": [
    "## Step 1.\n",
    "#### Make Step 1 to $O(\\log{n})$\n",
    "- Calculate `diff = depth[u] - depth[v]`.\n",
    "- ex. $ 19 = 2^{4} + 2^{1} + 2^{0} $\n",
    "\n",
    "```C++\n",
    "// int lca(int a, int b)\n",
    "if(depth[a] < depth[b]) swap(a,b);\n",
    "int diff = depth[a] - depth[b];\n",
    "for(int i=0;i<20;i++){\n",
    "    if((diff & (1<<i)) > 0){\n",
    "        a = par[i][a];\n",
    "    }\n",
    "}\n",
    "```"
   ]
  },
  {
   "cell_type": "markdown",
   "metadata": {
    "slideshow": {
     "slide_type": "slide"
    }
   },
   "source": [
    "## Step 2.\n",
    "#### Make Step 2 to $ O(\\log{n}) $\n",
    "- We need to find **lowest** common ancestor.\n",
    "    - Looks like:\n",
    "    - no, no, no, no, yes, yes, yes, yes, yes, yes\n",
    "- Binary Search! (Refer to previous lecture.)"
   ]
  },
  {
   "cell_type": "markdown",
   "metadata": {
    "slideshow": {
     "slide_type": "slide"
    }
   },
   "source": [
    "```C++\n",
    "// int lca(int a, int b)\n",
    "if(a == b) return a;\n",
    "for(int i=19;i>=0;i--){\n",
    "    if(par[i][a] != par[i][b]){ // not common.\n",
    "        a = par[i][a];\n",
    "        b = par[i][b];\n",
    "    }\n",
    "    else{\n",
    "        // nothing!\n",
    "    }\n",
    "}\n",
    "return par[0][a];\n",
    "```"
   ]
  },
  {
   "cell_type": "markdown",
   "metadata": {
    "slideshow": {
     "slide_type": "slide"
    }
   },
   "source": [
    "## Practice\n",
    "- [DFS와 BFS (1260 @ BOJ)](http://boj.kr/1260)\n",
    "- [LCA (11437 @ BOJ)](http://boj.kr/11437)\n",
    "- [LCA 2 (11438 @ BOJ)](http://boj.kr/11438)\n",
    "\n",
    "## Acknowledgement\n",
    "- I would like to extend my gratitude to [khsoo01(Hyunsoo Kim)](http://codeforces.com/profile/khsoo01) for allowing us to use and upload his [lecture note](bib/khsoo01-Sparse_Table.pdf) about Sparse Table on our [GitHub repo](https://github.com/seungwonpark/lipsum-seminar)."
   ]
  }
 ],
 "metadata": {
  "anaconda-cloud": {},
  "celltoolbar": "Slideshow",
  "kernelspec": {
   "display_name": "Python [default]",
   "language": "python",
   "name": "python3"
  },
  "language_info": {
   "codemirror_mode": {
    "name": "ipython",
    "version": 3
   },
   "file_extension": ".py",
   "mimetype": "text/x-python",
   "name": "python",
   "nbconvert_exporter": "python",
   "pygments_lexer": "ipython3",
   "version": "3.5.2"
  }
 },
 "nbformat": 4,
 "nbformat_minor": 1
}
