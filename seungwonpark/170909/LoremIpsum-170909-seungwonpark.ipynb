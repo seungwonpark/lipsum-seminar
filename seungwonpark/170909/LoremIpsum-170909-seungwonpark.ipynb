{
 "cells": [
  {
   "cell_type": "markdown",
   "metadata": {
    "slideshow": {
     "slide_type": "slide"
    }
   },
   "source": [
    "# Algorithms(3)\n",
    "2017.09.09 @ Lorem Ipsum\n",
    "\n",
    "## Seungwon Park\n",
    "yyyyy (at) snu.ac.kr"
   ]
  },
  {
   "cell_type": "markdown",
   "metadata": {
    "slideshow": {
     "slide_type": "slide"
    }
   },
   "source": [
    "## Today's Topic: DP\n",
    "> Dynamic programming is when you use past knowledge to make solving a future problem easier. -*SO*\n",
    "\n",
    "- (Perhaps) Most major part of PS\n",
    "    - Seq. with recurrence relation\n",
    "    - Optimal path finding\n",
    "    - Knapsack / Change making\n",
    "    - Interval scheduling\n",
    "    - ...\n",
    "    "
   ]
  },
  {
   "cell_type": "markdown",
   "metadata": {
    "slideshow": {
     "slide_type": "slide"
    }
   },
   "source": [
    "## Table of Contents\n",
    "- Fibonacci Seq.\n",
    "    - ex. of **Memoization** (not a typo!)\n",
    "- Change making\n",
    "    - DFS, Cutting\n",
    "- Appendix\n",
    "    - Greedy algorithm\n",
    "    - Practice"
   ]
  },
  {
   "cell_type": "markdown",
   "metadata": {
    "slideshow": {
     "slide_type": "slide"
    }
   },
   "source": [
    "## Fibonacci Sequence\n",
    "$ f(n) = f(n-1)+f(n-2) \\quad (n\\geq 2) $\n",
    "where $ f(0)=f(1)=1. $\n",
    "\n",
    "Naive solution - $ O(1.618^{n}) $:"
   ]
  },
  {
   "cell_type": "code",
   "execution_count": 1,
   "metadata": {
    "collapsed": true,
    "slideshow": {
     "slide_type": "fragment"
    }
   },
   "outputs": [],
   "source": [
    "def fib_slow(n):\n",
    "    if(n<=2):\n",
    "        return 1\n",
    "    return fib_slow(n-1) + fib_slow(n-2)"
   ]
  },
  {
   "cell_type": "code",
   "execution_count": 2,
   "metadata": {
    "slideshow": {
     "slide_type": "slide"
    }
   },
   "outputs": [
    {
     "name": "stdout",
     "output_type": "stream",
     "text": [
      "100000 loops, best of 3: 15.3 µs per loop\n",
      "1000 loops, best of 3: 1.91 ms per loop\n",
      "1 loop, best of 3: 232 ms per loop\n",
      "1 loop, best of 3: 2.59 s per loop\n"
     ]
    }
   ],
   "source": [
    "%timeit fib_slow(10)\n",
    "%timeit fib_slow(20)\n",
    "%timeit fib_slow(30)\n",
    "%timeit fib_slow(35)"
   ]
  },
  {
   "cell_type": "markdown",
   "metadata": {
    "slideshow": {
     "slide_type": "slide"
    }
   },
   "source": [
    "## Memoization\n",
    "Not 'Memorization'.\n",
    "\n",
    "This gives us $ O(n) $."
   ]
  },
  {
   "cell_type": "code",
   "execution_count": 6,
   "metadata": {
    "collapsed": true,
    "slideshow": {
     "slide_type": "fragment"
    }
   },
   "outputs": [],
   "source": [
    "mem = [0,1,1] + [0]*1010\n",
    "def fib_fast(n):\n",
    "    if(mem[n]):\n",
    "        return mem[n]\n",
    "    mem[n] = fib_fast(n-1) + fib_fast(n-2)\n",
    "    return mem[n]"
   ]
  },
  {
   "cell_type": "code",
   "execution_count": 11,
   "metadata": {
    "slideshow": {
     "slide_type": "slide"
    }
   },
   "outputs": [
    {
     "name": "stdout",
     "output_type": "stream",
     "text": [
      "The slowest run took 8.68 times longer than the fastest. This could mean that an intermediate result is being cached.\n",
      "1000000 loops, best of 3: 189 ns per loop\n",
      "The slowest run took 6.48 times longer than the fastest. This could mean that an intermediate result is being cached.\n",
      "10000000 loops, best of 3: 190 ns per loop\n",
      "10000000 loops, best of 3: 186 ns per loop\n",
      "The slowest run took 6.39 times longer than the fastest. This could mean that an intermediate result is being cached.\n",
      "10000000 loops, best of 3: 187 ns per loop\n"
     ]
    }
   ],
   "source": [
    "%timeit fib_fast(10)\n",
    "%timeit fib_fast(35)\n",
    "%timeit fib_fast(100)\n",
    "%timeit fib_fast(1010)"
   ]
  },
  {
   "cell_type": "markdown",
   "metadata": {
    "slideshow": {
     "slide_type": "slide"
    }
   },
   "source": [
    "## Exchange making\n",
    "- [캡틴 이다솜(1660 @ BOJ)](http://boj.kr/1660)\n",
    "- This kind of prob. is not so easy:\n",
    "    - Consider we have \\$1, \\$8, \\$13.\n",
    "    - 16 = 13 + 1 + 1 + 1\n",
    "    - 16 = 8 + 8 (optimal)"
   ]
  },
  {
   "cell_type": "markdown",
   "metadata": {
    "slideshow": {
     "slide_type": "slide"
    }
   },
   "source": [
    "```C++\n",
    "int ans = 2e9;\n",
    "void f(int lev, int s, int cnt){\n",
    "    if(cnt > ans) return; // cutting\n",
    "    if(lev == 0 || s > n) return;\n",
    "    if(s == n){\n",
    "        ans = min(ans, cnt)\n",
    "        return;\n",
    "    }\n",
    "    f(lev, s+coin[lev], cnt+1);\n",
    "    f(lev-1, s, cnt);\n",
    "}\n",
    "```"
   ]
  },
  {
   "cell_type": "markdown",
   "metadata": {
    "slideshow": {
     "slide_type": "slide"
    }
   },
   "source": [
    "## Greedy algorithm\n",
    "Though it's not a part of DP, I shall adress this\n",
    "since it is used along with DP.\n",
    "\n",
    "Before we start, let's have a look at easiest problems.\n",
    "- [ATM(11399 @ BOJ)](http://boj.kr/11399)\n",
    "- [로프(2217 @ BOJ)](http://boj.kr/2217)\n",
    "- [동전 0(11047 @ BOJ)](http://boj.kr/11047)\n",
    "- Or... [Kruskal algorithm](https://en.wikipedia.org/wiki/Kruskal%27s_algorithm#Example)?"
   ]
  },
  {
   "cell_type": "markdown",
   "metadata": {
    "slideshow": {
     "slide_type": "slide"
    }
   },
   "source": [
    "## Greedy algorithm - cont'd\n",
    "\n",
    "So, what's the \"Greedy algorithm\"?\n",
    "\n",
    "> A greedy algorithm ... [makes] the locally optimal choice at each stage with the hope of finding a global optimum. -*Wikipedia*\n",
    "\n",
    "- Not always global optimum, of course.\n",
    "- It should be used only if our choice leads to global optimum.\n",
    "    - Mathematically prove it!"
   ]
  },
  {
   "cell_type": "markdown",
   "metadata": {
    "slideshow": {
     "slide_type": "slide"
    }
   },
   "source": [
    "## Practice\n",
    "[다이나믹 프로그래밍 tag @ BOJ](https://www.acmicpc.net/problem/tag/다이나믹 프로그래밍)\n",
    "- [2xn 타일링(11726 @ BOJ)](http://boj.kr/11726) (Simply, fib.)\n",
    "- [1로 만들기(1463 @ BOJ)](http://boj.kr/1463)\n",
    "- **[숫자삼각형(1932 @ BOJ)](http://boj.kr/1932)**\n",
    "- [동전 바꿔주기(2624 @ BOJ)](http://boj.kr/2624)\n",
    "- **[가장 긴 증가하는 부분 수열(11053 @ BOJ)](http://boj.kr/11053)**\n",
    "- **[LCS(9251 @ BOJ)](http://boj.kr/9251)**\n",
    "- [이동하기(11048 @ BOJ)](http://boj.kr/11048)"
   ]
  }
 ],
 "metadata": {
  "anaconda-cloud": {},
  "celltoolbar": "Slideshow",
  "kernelspec": {
   "display_name": "Python [default]",
   "language": "python",
   "name": "python3"
  },
  "language_info": {
   "codemirror_mode": {
    "name": "ipython",
    "version": 3
   },
   "file_extension": ".py",
   "mimetype": "text/x-python",
   "name": "python",
   "nbconvert_exporter": "python",
   "pygments_lexer": "ipython3",
   "version": "3.5.2"
  }
 },
 "nbformat": 4,
 "nbformat_minor": 1
}
